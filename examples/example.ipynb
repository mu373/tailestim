{
 "cells": [
  {
   "cell_type": "code",
   "execution_count": 16,
   "id": "ec147002",
   "metadata": {},
   "outputs": [],
   "source": [
    "from tailestim import TailData\n",
    "from tailestim import HillEstimator, KernelTypeEstimator, MomentsEstimator"
   ]
  },
  {
   "cell_type": "code",
   "execution_count": 17,
   "id": "982e732d",
   "metadata": {},
   "outputs": [],
   "source": [
    "# Load a built-in dataset\n",
    "data = TailData(name='CAIDA_KONECT').data"
   ]
  },
  {
   "cell_type": "code",
   "execution_count": 25,
   "id": "f4f528d1",
   "metadata": {},
   "outputs": [],
   "source": [
    "# Example of loading a custom dataset\n",
    "# custom_data = TailData(path='path/to/my/data.dat').data"
   ]
  },
  {
   "cell_type": "code",
   "execution_count": 26,
   "id": "31de6947",
   "metadata": {},
   "outputs": [
    {
     "name": "stdout",
     "output_type": "stream",
     "text": [
      "--------------------------------------------------\n",
      "Estimator Type: HillEstimator\n",
      "--------------------------------------------------\n",
      "Fitted: Yes\n",
      "Arguments:\n",
      "  bootstrap: True\n",
      "  base_seed: 1\n",
      "\n"
     ]
    }
   ],
   "source": [
    "# Initialize and fit the Hill estimator\n",
    "estimator = HillEstimator(base_seed=1)\n",
    "estimator.fit(data)\n",
    "print(estimator)"
   ]
  },
  {
   "cell_type": "code",
   "execution_count": 27,
   "id": "f8820501",
   "metadata": {},
   "outputs": [],
   "source": [
    "# Get the estimated parameters\n",
    "result = estimator.get_parameters()"
   ]
  },
  {
   "cell_type": "code",
   "execution_count": 22,
   "id": "a8fbf1b9",
   "metadata": {},
   "outputs": [],
   "source": [
    "# Get the power law exponent\n",
    "gamma = result.gamma"
   ]
  },
  {
   "cell_type": "code",
   "execution_count": 23,
   "id": "1ae9abc5",
   "metadata": {},
   "outputs": [
    {
     "name": "stdout",
     "output_type": "stream",
     "text": [
      "--------------------------------------------------\n",
      "Result\n",
      "--------------------------------------------------\n",
      "Order statistics: Array of shape (26474,) [1.0000, 2.0000, 3.0000, ...]\n",
      "Tail index estimates: Array of shape (26474,) [0.2474, 0.3125, 0.2214, ...]\n",
      "Optimal order statistic (k*): 22936\n",
      "Tail index (ξ): 0.7651\n",
      "Power law exponent (γ): 2.3070\n",
      "Bootstrap Results: \n",
      "  First Bootstrap: \n",
      "    Fraction of order statistics: None\n",
      "    AMSE values: None\n",
      "    Minimum AMSE fraction: 0.8666\n",
      "    Maximum index: 18532\n",
      "  Second Bootstrap: \n",
      "    Fraction of order statistics: None\n",
      "    AMSE values: None\n",
      "    Minimum AMSE fraction: 0.8666\n",
      "    Maximum index: 13103\n"
     ]
    }
   ],
   "source": [
    "# Print full results\n",
    "print(result)"
   ]
  },
  {
   "cell_type": "code",
   "execution_count": null,
   "id": "4765595b",
   "metadata": {},
   "outputs": [],
   "source": []
  }
 ],
 "metadata": {
  "kernelspec": {
   "display_name": "tailestim",
   "language": "python",
   "name": "python3"
  },
  "language_info": {
   "codemirror_mode": {
    "name": "ipython",
    "version": 3
   },
   "file_extension": ".py",
   "mimetype": "text/x-python",
   "name": "python",
   "nbconvert_exporter": "python",
   "pygments_lexer": "ipython3",
   "version": "3.13.2"
  }
 },
 "nbformat": 4,
 "nbformat_minor": 5
}
